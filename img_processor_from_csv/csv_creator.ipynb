{
 "cells": [
  {
   "cell_type": "code",
   "execution_count": 6,
   "metadata": {},
   "outputs": [],
   "source": [
    "import csv\n",
    "import random"
   ]
  },
  {
   "cell_type": "code",
   "execution_count": 10,
   "metadata": {},
   "outputs": [
    {
     "name": "stdout",
     "output_type": "stream",
     "text": [
      "CSV file with 500 rows created successfully!\n"
     ]
    }
   ],
   "source": [
    "\n",
    "\n",
    "# Define the data\n",
    "header = [\"Serial Number\", \"Product Name\", \"Input Image Urls\"]\n",
    "products = [\n",
    "    (\"Laptop\", \"https://m.media-amazon.com/images/I/510uTHyDqGL._AC_UF1000,1000_QL80_.jpg\"),\n",
    "    (\"Smartphone\", \"https://www.ibef.org/uploads/blog/blog_athletic-woman_16thsept.jpg\"),\n",
    "    (\"Headphones\", \"https://shop.zebronics.com/cdn/shop/files/Zeb-Thunderpro-blue-pic-1.jpg?v=1709202990&width=1200\"),\n",
    "    (\"Smartwatch\", \"https://m.media-amazon.com/images/I/71pj1+SCfvL.jpg\"),\n",
    "    (\"Tablet\", \"https://m.media-amazon.com/images/I/715Dsu2jxWL.jpg\")\n",
    "]\n",
    "\n",
    "data = [[i + 1, *random.choice(products)] for i in range(200)]\n",
    "\n",
    "# Write to CSV file\n",
    "with open(\"data.csv\", \"w\", newline=\"\") as file:\n",
    "    writer = csv.writer(file)\n",
    "    writer.writerow(header)  # Write the header row\n",
    "    writer.writerows(data)   # Write the data rows\n",
    "\n",
    "print(\"CSV file with 500 rows created successfully!\")"
   ]
  },
  {
   "cell_type": "code",
   "execution_count": null,
   "metadata": {},
   "outputs": [],
   "source": []
  }
 ],
 "metadata": {
  "kernelspec": {
   "display_name": "Python 3",
   "language": "python",
   "name": "python3"
  },
  "language_info": {
   "codemirror_mode": {
    "name": "ipython",
    "version": 3
   },
   "file_extension": ".py",
   "mimetype": "text/x-python",
   "name": "python",
   "nbconvert_exporter": "python",
   "pygments_lexer": "ipython3",
   "version": "3.10.11"
  }
 },
 "nbformat": 4,
 "nbformat_minor": 2
}
